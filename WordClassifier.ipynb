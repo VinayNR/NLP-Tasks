{
 "cells": [
  {
   "cell_type": "code",
   "execution_count": 177,
   "id": "d45ea66c",
   "metadata": {},
   "outputs": [],
   "source": [
    "import numpy as np\n",
    "import torch\n",
    "import torch.nn as nn\n",
    "import torch.optim as optim\n",
    "from torch.utils.data import TensorDataset, DataLoader\n",
    "import random"
   ]
  },
  {
   "cell_type": "code",
   "execution_count": 178,
   "id": "3f88f9b0",
   "metadata": {},
   "outputs": [],
   "source": [
    "# Read GloVe embeddings from file\n",
    "def read_glove_embeddings(file_path):\n",
    "    word_to_index = {}\n",
    "    embeddings = []\n",
    "\n",
    "    with open(file_path, 'r', encoding='utf-8') as file:\n",
    "        for line in file:\n",
    "            values = line.strip().split(' ')\n",
    "            word = values[0]\n",
    "            vector = torch.tensor([float(val) for val in values[1:]])\n",
    "            word_to_index[word] = len(embeddings)\n",
    "            embeddings.append(vector)\n",
    "\n",
    "    return torch.stack(embeddings), word_to_index\n",
    "\n",
    "embedding_dim = 100\n",
    "\n",
    "# File path of the GloVe embeddings\n",
    "glove_file = 'glove.6B.100d.txt'\n",
    "\n",
    "# Read GloVe embeddings\n",
    "pretrained_embeddings, word_to_index = read_glove_embeddings(glove_file)"
   ]
  },
  {
   "cell_type": "code",
   "execution_count": 282,
   "id": "8cf06e6b",
   "metadata": {},
   "outputs": [],
   "source": [
    "# Define model\n",
    "class WordClassifier(nn.Module):\n",
    "    def __init__(self, embedding_dim, hidden_size, num_classes, pretrained_embeddings):\n",
    "        super(WordClassifier, self).__init__()\n",
    "        self.embedding = nn.Embedding.from_pretrained(pretrained_embeddings, freeze=True)\n",
    "        self.fc1 = nn.Linear(embedding_dim, hidden_size)\n",
    "        self.relu = nn.ReLU()\n",
    "        self.fc2 = nn.Linear(hidden_size, num_classes)\n",
    "        self.softmax = nn.Softmax(dim=1)\n",
    "        \n",
    "    def forward(self, x):\n",
    "        embedded = self.embedding(x)\n",
    "        out = self.fc1(embedded)\n",
    "        out = self.relu(out)\n",
    "        out = self.fc2(out)\n",
    "        return out"
   ]
  },
  {
   "cell_type": "code",
   "execution_count": 283,
   "id": "9a8f0af6",
   "metadata": {},
   "outputs": [],
   "source": [
    "# read data for training\n",
    "data = []\n",
    "with open('nouns.txt', 'r') as f:\n",
    "    for line in f:\n",
    "        word = line.strip()\n",
    "        if word in word_to_index:\n",
    "            data.append((word_to_index[word], 1))\n",
    "\n",
    "with open('verbs.txt', 'r') as f:\n",
    "    for line in f:\n",
    "        word = line.strip()\n",
    "        if word in word_to_index:\n",
    "            data.append((word_to_index[word], 0))\n",
    "\n",
    "# convert the data into tensors\n",
    "random.shuffle(data)\n",
    "\n",
    "x_train, y_train = zip(*data)\n",
    "x_train = torch.tensor(x_train)\n",
    "y_train = torch.tensor(y_train)"
   ]
  },
  {
   "cell_type": "code",
   "execution_count": 284,
   "id": "e4b3e690",
   "metadata": {},
   "outputs": [],
   "source": [
    "# batch the training data\n",
    "dataset = TensorDataset(x_train, y_train)\n",
    "dataloader = DataLoader(dataset, batch_size=32, shuffle=True)"
   ]
  },
  {
   "cell_type": "code",
   "execution_count": 285,
   "id": "c6c5ef7b",
   "metadata": {},
   "outputs": [],
   "source": [
    "# Hyper parameters for the model\n",
    "hidden_size = 128\n",
    "num_classes = 2\n",
    "vocab_size = len(pretrained_embeddings)\n",
    "model = WordClassifier(embedding_dim, hidden_size, num_classes, pretrained_embeddings)"
   ]
  },
  {
   "cell_type": "code",
   "execution_count": 286,
   "id": "98d39b05",
   "metadata": {},
   "outputs": [
    {
     "name": "stdout",
     "output_type": "stream",
     "text": [
      "Epoch [1/100], Loss: 0.23052525226958095\n",
      "Epoch [2/100], Loss: 0.1507930949718381\n",
      "Epoch [3/100], Loss: 0.1397523626840363\n",
      "Epoch [4/100], Loss: 0.13166636880487204\n",
      "Epoch [5/100], Loss: 0.1253807268066642\n",
      "Epoch [6/100], Loss: 0.12109721158631145\n",
      "Epoch [7/100], Loss: 0.11563364943140186\n",
      "Epoch [8/100], Loss: 0.11182313437263171\n",
      "Epoch [9/100], Loss: 0.1084568169588844\n",
      "Epoch [10/100], Loss: 0.10495198189746588\n",
      "Epoch [11/100], Loss: 0.10154954196574788\n",
      "Epoch [12/100], Loss: 0.10089617767371237\n",
      "Epoch [13/100], Loss: 0.09853415322043778\n",
      "Epoch [14/100], Loss: 0.0965213670162484\n",
      "Epoch [15/100], Loss: 0.09585682293206142\n",
      "Epoch [16/100], Loss: 0.09345788976061158\n",
      "Epoch [17/100], Loss: 0.09204120346342583\n",
      "Epoch [18/100], Loss: 0.09161887724573413\n",
      "Epoch [19/100], Loss: 0.09042833413501891\n",
      "Epoch [20/100], Loss: 0.0891924318412445\n",
      "Epoch [21/100], Loss: 0.08899488753571252\n",
      "Epoch [22/100], Loss: 0.08818319341323028\n",
      "Epoch [23/100], Loss: 0.08691267452765411\n",
      "Epoch [24/100], Loss: 0.08708405909322513\n",
      "Epoch [25/100], Loss: 0.086678057917743\n",
      "Epoch [26/100], Loss: 0.08655812962485167\n",
      "Epoch [27/100], Loss: 0.08600349359330721\n",
      "Epoch [28/100], Loss: 0.08459260045153011\n",
      "Epoch [29/100], Loss: 0.08443375205388293\n",
      "Epoch [30/100], Loss: 0.08487862534529995\n",
      "Epoch [31/100], Loss: 0.08444203179387841\n",
      "Epoch [32/100], Loss: 0.08366878174808032\n",
      "Epoch [33/100], Loss: 0.08339937741693575\n",
      "Epoch [34/100], Loss: 0.08261433888886434\n",
      "Epoch [35/100], Loss: 0.08265397858194774\n",
      "Epoch [36/100], Loss: 0.08258781870730066\n",
      "Epoch [37/100], Loss: 0.08296997918611547\n",
      "Epoch [38/100], Loss: 0.0817824249296488\n",
      "Epoch [39/100], Loss: 0.08361077946950293\n",
      "Epoch [40/100], Loss: 0.08195323622882521\n",
      "Epoch [41/100], Loss: 0.08189882085813831\n",
      "Epoch [42/100], Loss: 0.08184572988830041\n",
      "Epoch [43/100], Loss: 0.08126262442431956\n",
      "Epoch [44/100], Loss: 0.08132063380714195\n",
      "Epoch [45/100], Loss: 0.08132145410248388\n",
      "Epoch [46/100], Loss: 0.08046145113767125\n",
      "Epoch [47/100], Loss: 0.08089346784496836\n",
      "Epoch [48/100], Loss: 0.08100844849735343\n",
      "Epoch [49/100], Loss: 0.08084140356077114\n",
      "Epoch [50/100], Loss: 0.08091338852148813\n",
      "Epoch [51/100], Loss: 0.08010383819685861\n",
      "Epoch [52/100], Loss: 0.08028806541503096\n",
      "Epoch [53/100], Loss: 0.07966349061419654\n",
      "Epoch [54/100], Loss: 0.079893443689798\n",
      "Epoch [55/100], Loss: 0.080327143567168\n",
      "Epoch [56/100], Loss: 0.07999582043121337\n",
      "Epoch [57/100], Loss: 0.07981848333268621\n",
      "Epoch [58/100], Loss: 0.0803014196094106\n",
      "Epoch [59/100], Loss: 0.07979461856327058\n",
      "Epoch [60/100], Loss: 0.07914908565508086\n",
      "Epoch [61/100], Loss: 0.07917339164268924\n",
      "Epoch [62/100], Loss: 0.07902075248760715\n",
      "Epoch [63/100], Loss: 0.07816521503191325\n",
      "Epoch [64/100], Loss: 0.07903956434165593\n",
      "Epoch [65/100], Loss: 0.07861398202367127\n",
      "Epoch [66/100], Loss: 0.07973998827668159\n",
      "Epoch [67/100], Loss: 0.0788221381852054\n",
      "Epoch [68/100], Loss: 0.07927332329563797\n",
      "Epoch [69/100], Loss: 0.07800682027203341\n",
      "Epoch [70/100], Loss: 0.07826064392187011\n",
      "Epoch [71/100], Loss: 0.0786388656750205\n",
      "Epoch [72/100], Loss: 0.07785941076799645\n",
      "Epoch [73/100], Loss: 0.0782926770611084\n",
      "Epoch [74/100], Loss: 0.07809346892026951\n",
      "Epoch [75/100], Loss: 0.07887428973723824\n",
      "Epoch [76/100], Loss: 0.07764738399309863\n",
      "Epoch [77/100], Loss: 0.07784093482453804\n",
      "Epoch [78/100], Loss: 0.07767483385493203\n",
      "Epoch [79/100], Loss: 0.07848853129859587\n",
      "Epoch [80/100], Loss: 0.0778647482288458\n",
      "Epoch [81/100], Loss: 0.07648629867750666\n",
      "Epoch [82/100], Loss: 0.07798706354224123\n",
      "Epoch [83/100], Loss: 0.07730243774227953\n",
      "Epoch [84/100], Loss: 0.07718306631286395\n",
      "Epoch [85/100], Loss: 0.07759989965834393\n",
      "Epoch [86/100], Loss: 0.07744458919138802\n",
      "Epoch [87/100], Loss: 0.07772401496234428\n",
      "Epoch [88/100], Loss: 0.07730917312655947\n",
      "Epoch [89/100], Loss: 0.07719569261268286\n",
      "Epoch [90/100], Loss: 0.0765762066381285\n",
      "Epoch [91/100], Loss: 0.077545621494149\n",
      "Epoch [92/100], Loss: 0.07614274574128406\n",
      "Epoch [93/100], Loss: 0.0767742631256624\n",
      "Epoch [94/100], Loss: 0.07687990546304112\n",
      "Epoch [95/100], Loss: 0.07669587078707991\n",
      "Epoch [96/100], Loss: 0.07588802355033598\n",
      "Epoch [97/100], Loss: 0.07648834689171054\n",
      "Epoch [98/100], Loss: 0.07661662465397967\n",
      "Epoch [99/100], Loss: 0.07783212568319868\n",
      "Epoch [100/100], Loss: 0.07618463429995852\n"
     ]
    }
   ],
   "source": [
    "# Define loss function and optimizer\n",
    "criterion = nn.CrossEntropyLoss()\n",
    "optimizer = optim.Adam(model.parameters(), lr=0.001)\n",
    "batch_size = 32\n",
    "\n",
    "# Training loop\n",
    "num_epochs = 100\n",
    "\n",
    "for epoch in range(num_epochs):\n",
    "    running_loss = 0.0\n",
    "    for inputs, labels in dataloader:\n",
    "        # Clear gradients\n",
    "        optimizer.zero_grad()  \n",
    "\n",
    "        # Forward pass\n",
    "        output = model(inputs)\n",
    "\n",
    "        # Compute loss\n",
    "        loss = criterion(output, labels)\n",
    "\n",
    "        # Backward pass\n",
    "        loss.backward()\n",
    "\n",
    "        # Update weights\n",
    "        optimizer.step()\n",
    "        \n",
    "        running_loss += loss.item()\n",
    "        \n",
    "    # Print loss\n",
    "    print(f\"Epoch [{epoch+1}/{num_epochs}], Loss: {running_loss / len(dataloader)}\")"
   ]
  },
  {
   "cell_type": "code",
   "execution_count": 313,
   "id": "464da31b",
   "metadata": {},
   "outputs": [],
   "source": [
    "test_words = [\"talk\"]\n",
    "test_input = []\n",
    "for word in test_words:\n",
    "    if word in word_to_index:\n",
    "        test_input.append(word_to_index[word])\n",
    "        \n",
    "test_input = torch.tensor(test_input)"
   ]
  },
  {
   "cell_type": "code",
   "execution_count": 314,
   "id": "3fcf60ea",
   "metadata": {},
   "outputs": [
    {
     "data": {
      "text/plain": [
       "tensor([1077])"
      ]
     },
     "execution_count": 314,
     "metadata": {},
     "output_type": "execute_result"
    }
   ],
   "source": [
    "test_input"
   ]
  },
  {
   "cell_type": "code",
   "execution_count": 315,
   "id": "454f419b",
   "metadata": {},
   "outputs": [],
   "source": [
    "with torch.no_grad():\n",
    "    output = model(test_input)"
   ]
  },
  {
   "cell_type": "code",
   "execution_count": 316,
   "id": "5721c922",
   "metadata": {},
   "outputs": [
    {
     "data": {
      "text/plain": [
       "tensor([[ 0.4335, -0.7813]])"
      ]
     },
     "execution_count": 316,
     "metadata": {},
     "output_type": "execute_result"
    }
   ],
   "source": [
    "output"
   ]
  },
  {
   "cell_type": "code",
   "execution_count": 317,
   "id": "e25d8fb3",
   "metadata": {},
   "outputs": [],
   "source": [
    "_, predicted_labels = torch.max(output, dim=1)"
   ]
  },
  {
   "cell_type": "code",
   "execution_count": 318,
   "id": "ae4bb738",
   "metadata": {},
   "outputs": [
    {
     "data": {
      "text/plain": [
       "tensor([0])"
      ]
     },
     "execution_count": 318,
     "metadata": {},
     "output_type": "execute_result"
    }
   ],
   "source": [
    "predicted_labels"
   ]
  },
  {
   "cell_type": "code",
   "execution_count": null,
   "id": "03357803",
   "metadata": {},
   "outputs": [],
   "source": []
  }
 ],
 "metadata": {
  "kernelspec": {
   "display_name": "Python 3 (ipykernel)",
   "language": "python",
   "name": "python3"
  },
  "language_info": {
   "codemirror_mode": {
    "name": "ipython",
    "version": 3
   },
   "file_extension": ".py",
   "mimetype": "text/x-python",
   "name": "python",
   "nbconvert_exporter": "python",
   "pygments_lexer": "ipython3",
   "version": "3.9.13"
  }
 },
 "nbformat": 4,
 "nbformat_minor": 5
}
