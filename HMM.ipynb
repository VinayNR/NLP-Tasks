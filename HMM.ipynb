{
 "cells": [
  {
   "cell_type": "markdown",
   "id": "40bd47d7",
   "metadata": {},
   "source": [
    "## IMPORTS"
   ]
  },
  {
   "cell_type": "code",
   "execution_count": 417,
   "id": "cf9415fd",
   "metadata": {},
   "outputs": [],
   "source": [
    "import numpy as np\n",
    "import math"
   ]
  },
  {
   "cell_type": "markdown",
   "id": "673d7fbd",
   "metadata": {},
   "source": [
    "## DATASET"
   ]
  },
  {
   "cell_type": "code",
   "execution_count": 4,
   "id": "62b475c4",
   "metadata": {},
   "outputs": [
    {
     "name": "stderr",
     "output_type": "stream",
     "text": [
      "[nltk_data] Downloading package conll2000 to /Users/vinay/nltk_data...\n",
      "[nltk_data]   Package conll2000 is already up-to-date!\n"
     ]
    }
   ],
   "source": [
    "\"\"\"\n",
    "Download POS dataset from NLTK library\n",
    "\"\"\"\n",
    "import nltk\n",
    "nltk.download('conll2000')\n",
    "\n",
    "\"\"\"\n",
    "Load the dataset\n",
    "\"\"\"\n",
    "from nltk.corpus import conll2000\n",
    "tagged_sentences = conll2000.tagged_sents()"
   ]
  },
  {
   "cell_type": "code",
   "execution_count": 199,
   "id": "a08f8efc",
   "metadata": {},
   "outputs": [
    {
     "name": "stdout",
     "output_type": "stream",
     "text": [
      "[('The', 'DT'), ('August', 'NNP'), ('deficit', 'NN'), ('and', 'CC'), ('the', 'DT'), ('#', '#'), ('2.2', 'CD'), ('billion', 'CD'), ('gap', 'NN'), ('registered', 'VBN'), ('in', 'IN'), ('July', 'NNP'), ('are', 'VBP'), ('topped', 'VBN'), ('only', 'RB'), ('by', 'IN'), ('the', 'DT'), ('#', '#'), ('2.3', 'CD'), ('billion', 'CD'), ('deficit', 'NN'), ('of', 'IN'), ('October', 'NNP'), ('1988', 'CD'), ('.', '.')]\n",
      "10948\n"
     ]
    }
   ],
   "source": [
    "\"\"\"\n",
    "View the data\n",
    "\"\"\"\n",
    "print(tagged_sentences[7])\n",
    "print(len(tagged_sentences))"
   ]
  },
  {
   "cell_type": "code",
   "execution_count": 200,
   "id": "9a2175b2",
   "metadata": {},
   "outputs": [],
   "source": [
    "\"\"\"\n",
    "Convert the data into a suitable training format\n",
    "\"\"\"\n",
    "x_train = []\n",
    "y_train = []\n",
    "for sent in tagged_sentences:\n",
    "    x,y = zip(*sent)\n",
    "    x_train.append(list(x))\n",
    "    y_train.append(list(y))"
   ]
  },
  {
   "cell_type": "code",
   "execution_count": 248,
   "id": "f36fb3f0",
   "metadata": {},
   "outputs": [],
   "source": [
    "\"\"\"\n",
    "Utility function for creating a map from a set\n",
    "\"\"\"\n",
    "def convert_set_to_map(s):\n",
    "    m = {}\n",
    "    for item in s:\n",
    "        m[item] = len(m)\n",
    "    return m"
   ]
  },
  {
   "cell_type": "markdown",
   "id": "ef0d14cd",
   "metadata": {},
   "source": [
    "## MODEL"
   ]
  },
  {
   "cell_type": "code",
   "execution_count": 415,
   "id": "645397d3",
   "metadata": {},
   "outputs": [],
   "source": [
    "\"\"\"\n",
    "Hidden Markov Model Sequence Tagger\n",
    "Training - uses Supervised training\n",
    "Estimation - Uses forward algorithm to compute likelihood of a sequence\n",
    "Inference - Viterbi Decoding\n",
    "Applications - Sequence Tagging problems such as POS Tagger, NER\n",
    "\"\"\"\n",
    "class HMMTagger():\n",
    "    def __init__(self):\n",
    "        pass\n",
    "    \n",
    "    def train(self, x, y):\n",
    "        # build word and tag index maps\n",
    "        vocab = set(word for sent in x for word in sent)\n",
    "        self.word_to_idx = convert_set_to_map(vocab)\n",
    "\n",
    "        pos_tags = set(pos_tag for sent in y for pos_tag in sent)\n",
    "        self.tags_to_idx = convert_set_to_map(pos_tags)\n",
    "        \n",
    "        self.vocab_length = len(vocab)\n",
    "        self.tag_length = len(pos_tags)\n",
    "        \n",
    "        # initialize matrices\n",
    "        self.start_prob = np.zeros(self.tag_length)\n",
    "        self.transition_prob = np.zeros((self.tag_length, self.tag_length))\n",
    "        self.emission_prob = np.zeros((self.tag_length, self.vocab_length))\n",
    "        \n",
    "        # train transition probabilities\n",
    "        for label_seq in y:\n",
    "            # add count for starting tag\n",
    "            first_tag_id = tags_to_idx[label_seq[0]]\n",
    "            self.start_prob[first_tag_id] += 1\n",
    "            \n",
    "            # compute for consecutive pairs\n",
    "            for i in range(len(label_seq)-1):\n",
    "                first_tag_id = tags_to_idx[label_seq[i]]\n",
    "                second_tag_id = tags_to_idx[label_seq[i+1]]\n",
    "                self.transition_prob[first_tag_id][second_tag_id] += 1\n",
    "            \n",
    "        # train emission probabilities\n",
    "        for i, sent in enumerate(x):\n",
    "            for j, word in enumerate(sent):\n",
    "                word_id = word_to_idx[word]\n",
    "                tag_id = tag_to_idx[y[i][j]]\n",
    "                self.emission_prob[tag_id][word_id] += 1\n",
    "                \n",
    "        # normalize the probabilites\n",
    "        self.transition_prob = self.transition_prob/np.sum(self.transition_prob, axis=1, keepdims=True)\n",
    "        self.emission_prob = self.emission_prob/np.sum(self.emission_prob, axis=1, keepdims=True)\n",
    "        self.start_prob = self.start_prob/self.start_prob.sum()\n",
    "     \n",
    "    \n",
    "    def train_unsupervised(self, x, pos_tags):\n",
    "        # build word map\n",
    "        vocab = set(word for sent in x for word in sent)\n",
    "        self.word_to_idx = convert_set_to_map(vocab)\n",
    "        \n",
    "        self.tags_to_idx = convert_set_to_map(pos_tags)\n",
    "        \n",
    "        self.vocab_length = len(vocab)\n",
    "        self.tag_length = len(pos_tags)\n",
    "        \n",
    "        print(self.vocab_length, \" : \", self.tag_length)\n",
    "        \n",
    "        # randomly initialize transition and emission matrices\n",
    "        self.start_prob = np.random.uniform(size=self.tag_length)\n",
    "        self.transition_prob = np.random.uniform(size=(self.tag_length, self.tag_length))\n",
    "        self.emission_prob = np.random.uniform(size=(self.tag_length, self.vocab_length))\n",
    "        \n",
    "        # normalize the probabilites\n",
    "        self.transition_prob = self.transition_prob/np.sum(self.transition_prob, axis=1, keepdims=True)\n",
    "        self.emission_prob = self.emission_prob/np.sum(self.emission_prob, axis=1, keepdims=True)\n",
    "        self.start_prob = self.start_prob/self.start_prob.sum()\n",
    "                \n",
    "        # Baum-Welch algorithm (a special case of Expectation Maximization)\n",
    "        num_iter = 10\n",
    "        while num_iter > 0:\n",
    "            print(\"Iteration: \", 11-num_iter)\n",
    "            \n",
    "            # Expectation-Maximization step\n",
    "            for seq in x:\n",
    "                seq_ids = [self.word_to_idx[word] for word in seq]\n",
    "                # calculate forward and backward probabilities\n",
    "                _, fwd_path = self.forward(seq_ids)\n",
    "                _, back_path = self.backward(seq_ids)\n",
    "                                \n",
    "                for from_state in range(self.tag_length):\n",
    "                    for to_state in range(self.tag_length):\n",
    "                        new_estimate = 0.0\n",
    "                        for token in range(len(seq_ids)-1):\n",
    "                            new_estimate += math.log(fwd_path[from_state][token]*self.transition_prob[from_state][to_state]*self.emission_prob[to_state][seq_ids[token+1]]*back_path[to_state][token+1])\n",
    "                        self.transition_prob[from_state][to_state] = new_estimate\n",
    "            \n",
    "                for vocab in range(self.vocab_length):\n",
    "                    for state in range(self.tag_length):\n",
    "                        new_estimate = 0.0\n",
    "                        for token in range(len(seq_ids)):\n",
    "                            if seq_ids[token] == vocab:\n",
    "                                new_estimate += math.log(fwd_path[state][token]*back_path[state][token])\n",
    "                        self.emission_prob[state][vocab] = new_estimate\n",
    "                        \n",
    "            # normalize the probabilities\n",
    "            self.transition_prob = self.transition_prob/np.sum(self.transition_prob, axis=1, keepdims=True)\n",
    "            self.emission_prob = self.emission_prob/np.sum(self.emission_prob, axis=1, keepdims=True)\n",
    "            num_iter = num_iter-1\n",
    "        \n",
    "    # MLE Estimate of a sequence\n",
    "    def forward(self, x):\n",
    "        path = np.zeros((self.tag_length, len(x)))\n",
    "        \n",
    "        # initialization\n",
    "        for i in range(self.tag_length):\n",
    "            path[i][0] = self.start_prob[i]*self.emission_prob[i][x[0]]\n",
    "        \n",
    "        # recursion\n",
    "        for t in range(1, len(x)):\n",
    "            for s in range(self.tag_length):\n",
    "                curr_sum = 0.0\n",
    "                for prev_state in range(self.tag_length):\n",
    "                    curr_sum += self.transition_prob[prev_state][s]*path[prev_state][t-1]*self.emission_prob[s][x[t]]\n",
    "                path[s][t] = curr_sum\n",
    "                \n",
    "        # termination: compute likelihood\n",
    "        fwd_prob = np.sum(path[:, -1])\n",
    "        return fwd_prob, path\n",
    "    \n",
    "    \n",
    "    def backward(self, x):\n",
    "        path = np.zeros((self.tag_length, len(x)))\n",
    "        \n",
    "        # initialization\n",
    "        for i in range(self.tag_length):\n",
    "            path[i][len(x)-1] = 1\n",
    "        \n",
    "        # recursion\n",
    "        for t in range(len(x)-2, -1, -1):\n",
    "            for s in range(self.tag_length):\n",
    "                curr_sum = 0.0\n",
    "                for next_state in range(self.tag_length):\n",
    "                    curr_sum += self.transition_prob[s][next_state]*path[next_state][t+1]*self.emission_prob[next_state][x[t+1]]\n",
    "                path[s][t] = curr_sum\n",
    "                \n",
    "        # termination: compute backward likelihood\n",
    "        back_prob = 0.0\n",
    "        for i in range(self.tag_length):\n",
    "            back_prob += self.start_prob[i]*self.emission_prob[i][x[0]]*path[i][0]\n",
    "        return back_prob, path\n",
    "\n",
    "    \n",
    "    def get_seq_prob(self, x):\n",
    "        x = self._vectorize(x)\n",
    "        fwd_prob, fwd_path = self.forward(x)\n",
    "        back_prob, back_path = self.backward(x)\n",
    "        \n",
    "        for t in range(len(x)):\n",
    "            curr_sum = 0.0\n",
    "            for s in range(self.tag_length):\n",
    "                curr_sum += fwd_path[s][t]*back_path[s][t]\n",
    "            print(\"Time : \", t, \" and prob : \", curr_sum)\n",
    "            \n",
    "    # Viterbi decoding\n",
    "    def predict(self, x):\n",
    "        x = self._vectorize(x)\n",
    "        path = np.zeros((self.tag_length, len(x)))\n",
    "        back_pointers = np.full((self.tag_length, len(x)), -1)\n",
    "        \n",
    "        for i in range(self.tag_length):\n",
    "            path[i][0] = self.start_prob[i]*self.emission_prob[i][x[0]]\n",
    "        \n",
    "        for t in range(1, len(x)):\n",
    "            for s in range(self.tag_length):\n",
    "                curr_max = 0.0\n",
    "                best_prev_state = 0\n",
    "                for prev_s in range(self.tag_length):\n",
    "                    if self.transition_prob[prev_s][s]*path[prev_s][t-1] > curr_max:\n",
    "                        curr_max = self.transition_prob[prev_s][s]*path[prev_s][t-1]\n",
    "                        best_prev_state = prev_s\n",
    "                path[s][t] = curr_max*self.emission_prob[s][x[t]]\n",
    "                back_pointers[s][t] = best_prev_state\n",
    "        \n",
    "        # compute the backward trajectory\n",
    "        max_prob_score = np.max(path[:, -1])\n",
    "        argmax_index = np.argmax(path[:, -1])\n",
    "                \n",
    "        best_path = [argmax_index]\n",
    "        t = len(x)-1\n",
    "        while True:\n",
    "            state = back_pointers[argmax_index][t]\n",
    "            if state == -1:\n",
    "                break\n",
    "            best_path.append(state)\n",
    "            t = t-1\n",
    "        \n",
    "        return self._decode_tags(reversed(best_path))\n",
    "    \n",
    "    def _vectorize(self, sent):\n",
    "        vector = []\n",
    "        for word in sent.split():\n",
    "            vector.append(self.word_to_idx[word])\n",
    "        return vector\n",
    "\n",
    "    def _decode_tags(self, tag_ids):\n",
    "        tags = []\n",
    "        for tag_id in tag_ids:\n",
    "            for tag, idx in self.tags_to_idx.items():\n",
    "                if tag_id == idx:\n",
    "                    tags.append(tag)\n",
    "        return tags"
   ]
  },
  {
   "cell_type": "code",
   "execution_count": 416,
   "id": "82bb5986",
   "metadata": {},
   "outputs": [
    {
     "name": "stdout",
     "output_type": "stream",
     "text": [
      "919  :  40\n",
      "[1. 1. 1. 1. 1. 1. 1. 1. 1. 1. 1. 1. 1. 1. 1. 1. 1. 1. 1. 1. 1. 1. 1. 1.\n",
      " 1. 1. 1. 1. 1. 1. 1. 1. 1. 1. 1. 1. 1. 1. 1. 1.]\n",
      "Iteration:  1\n"
     ]
    },
    {
     "ename": "KeyboardInterrupt",
     "evalue": "",
     "output_type": "error",
     "traceback": [
      "\u001b[0;31m---------------------------------------------------------------------------\u001b[0m",
      "\u001b[0;31mKeyboardInterrupt\u001b[0m                         Traceback (most recent call last)",
      "Cell \u001b[0;32mIn[416], line 6\u001b[0m\n\u001b[1;32m      4\u001b[0m hmm_tagger \u001b[38;5;241m=\u001b[39m HMMTagger()\n\u001b[1;32m      5\u001b[0m \u001b[38;5;66;03m# hmm_tagger.train(x_train, y_train)\u001b[39;00m\n\u001b[0;32m----> 6\u001b[0m \u001b[43mhmm_tagger\u001b[49m\u001b[38;5;241;43m.\u001b[39;49m\u001b[43mtrain_unsupervised\u001b[49m\u001b[43m(\u001b[49m\u001b[43mx_train\u001b[49m\u001b[43m[\u001b[49m\u001b[38;5;241;43m0\u001b[39;49m\u001b[43m:\u001b[49m\u001b[38;5;241;43m100\u001b[39;49m\u001b[43m]\u001b[49m\u001b[43m,\u001b[49m\u001b[43m \u001b[49m\u001b[38;5;28;43mset\u001b[39;49m\u001b[43m(\u001b[49m\u001b[43mpos_tag\u001b[49m\u001b[43m \u001b[49m\u001b[38;5;28;43;01mfor\u001b[39;49;00m\u001b[43m \u001b[49m\u001b[43msent\u001b[49m\u001b[43m \u001b[49m\u001b[38;5;129;43;01min\u001b[39;49;00m\u001b[43m \u001b[49m\u001b[43my_train\u001b[49m\u001b[43m[\u001b[49m\u001b[38;5;241;43m0\u001b[39;49m\u001b[43m:\u001b[49m\u001b[38;5;241;43m100\u001b[39;49m\u001b[43m]\u001b[49m\u001b[43m \u001b[49m\u001b[38;5;28;43;01mfor\u001b[39;49;00m\u001b[43m \u001b[49m\u001b[43mpos_tag\u001b[49m\u001b[43m \u001b[49m\u001b[38;5;129;43;01min\u001b[39;49;00m\u001b[43m \u001b[49m\u001b[43msent\u001b[49m\u001b[43m)\u001b[49m\u001b[43m)\u001b[49m\n",
      "Cell \u001b[0;32mIn[415], line 93\u001b[0m, in \u001b[0;36mHMMTagger.train_unsupervised\u001b[0;34m(self, x, pos_tags)\u001b[0m\n\u001b[1;32m     91\u001b[0m                         new_estimate \u001b[38;5;241m=\u001b[39m \u001b[38;5;241m0.0\u001b[39m\n\u001b[1;32m     92\u001b[0m                         \u001b[38;5;28;01mfor\u001b[39;00m token \u001b[38;5;129;01min\u001b[39;00m \u001b[38;5;28mrange\u001b[39m(\u001b[38;5;28mlen\u001b[39m(seq_ids)\u001b[38;5;241m-\u001b[39m\u001b[38;5;241m1\u001b[39m):\n\u001b[0;32m---> 93\u001b[0m                             new_estimate \u001b[38;5;241m+\u001b[39m\u001b[38;5;241m=\u001b[39m (\u001b[43mfwd_path\u001b[49m\u001b[43m[\u001b[49m\u001b[43mfrom_state\u001b[49m\u001b[43m]\u001b[49m[token]\u001b[38;5;241m*\u001b[39m\u001b[38;5;28mself\u001b[39m\u001b[38;5;241m.\u001b[39mtransition_prob[from_state][to_state]\u001b[38;5;241m*\u001b[39m\u001b[38;5;28mself\u001b[39m\u001b[38;5;241m.\u001b[39memission_prob[to_state][seq_ids[token\u001b[38;5;241m+\u001b[39m\u001b[38;5;241m1\u001b[39m]]\u001b[38;5;241m*\u001b[39mback_path[to_state][token\u001b[38;5;241m+\u001b[39m\u001b[38;5;241m1\u001b[39m])\n\u001b[1;32m     94\u001b[0m \u001b[38;5;66;03m#                         print(new_estimate)\u001b[39;00m\n\u001b[1;32m     95\u001b[0m                         \u001b[38;5;28mself\u001b[39m\u001b[38;5;241m.\u001b[39mtransition_prob[from_state][to_state] \u001b[38;5;241m=\u001b[39m new_estimate\n",
      "\u001b[0;31mKeyboardInterrupt\u001b[0m: "
     ]
    }
   ],
   "source": [
    "\"\"\"\n",
    "Create the model and train it\n",
    "\"\"\"\n",
    "hmm_tagger = HMMTagger()\n",
    "# hmm_tagger.train(x_train, y_train)\n",
    "hmm_tagger.train_unsupervised(x_train[0:100], set(pos_tag for sent in y_train[0:100] for pos_tag in sent))"
   ]
  },
  {
   "cell_type": "code",
   "execution_count": 405,
   "id": "58c63cd5",
   "metadata": {},
   "outputs": [
    {
     "name": "stdout",
     "output_type": "stream",
     "text": [
      "[('He', 'VB'), ('expected', 'VB'), ('help', 'VB'), ('from', 'VB'), ('him', 'VB')]\n",
      "Time :  0  and prob :  nan\n",
      "Time :  1  and prob :  nan\n",
      "Time :  2  and prob :  nan\n",
      "Time :  3  and prob :  nan\n",
      "Time :  4  and prob :  nan\n",
      "None\n"
     ]
    }
   ],
   "source": [
    "\"\"\"\n",
    "Test the model on test data\n",
    "\"\"\"\n",
    "test_sentence = \"He expected help from him\"\n",
    "tags = hmm_tagger.predict(test_sentence)\n",
    "print(list(zip(test_sentence.split(), tags)))\n",
    "\n",
    "print(hmm_tagger.get_seq_prob(test_sentence))"
   ]
  },
  {
   "cell_type": "code",
   "execution_count": 332,
   "id": "a326b280",
   "metadata": {
    "scrolled": true
   },
   "outputs": [
    {
     "name": "stderr",
     "output_type": "stream",
     "text": [
      "[nltk_data] Downloading package brown to /Users/vinay/nltk_data...\n",
      "[nltk_data]   Package brown is already up-to-date!\n"
     ]
    }
   ],
   "source": [
    "\"\"\"\n",
    "Test the results using NLTK library\n",
    "\"\"\"\n",
    "nltk.download('brown')\n",
    "# Initialize and tag with HiddenMarkovModelTagger\n",
    "tagger = nltk.tag.HiddenMarkovModelTagger.train(nltk.corpus.brown.tagged_sents(categories='news'))"
   ]
  },
  {
   "cell_type": "code",
   "execution_count": 365,
   "id": "bf8da7ea",
   "metadata": {},
   "outputs": [
    {
     "name": "stdout",
     "output_type": "stream",
     "text": [
      "[('It', 'PRP'), ('is', 'VBZ'), ('pouring', 'VBG'), ('heavily', 'RB'), ('in', 'IN'), ('here', 'RB')]\n"
     ]
    }
   ],
   "source": [
    "# Tokenize the sentence into words\n",
    "tokens = nltk.word_tokenize(test_sentence)\n",
    "\n",
    "# Perform POS tagging\n",
    "pos_tags = tagger.tag(tokens)\n",
    "\n",
    "# Perform POS tagging\n",
    "pos_tags = nltk.pos_tag(tokens)\n",
    "\n",
    "print(pos_tags)"
   ]
  },
  {
   "cell_type": "code",
   "execution_count": null,
   "id": "9a33213d",
   "metadata": {},
   "outputs": [],
   "source": []
  }
 ],
 "metadata": {
  "kernelspec": {
   "display_name": "Python 3 (ipykernel)",
   "language": "python",
   "name": "python3"
  },
  "language_info": {
   "codemirror_mode": {
    "name": "ipython",
    "version": 3
   },
   "file_extension": ".py",
   "mimetype": "text/x-python",
   "name": "python",
   "nbconvert_exporter": "python",
   "pygments_lexer": "ipython3",
   "version": "3.9.13"
  }
 },
 "nbformat": 4,
 "nbformat_minor": 5
}
